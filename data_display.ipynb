{
 "cells": [
  {
   "cell_type": "code",
   "execution_count": 46,
   "id": "initial_id",
   "metadata": {
    "collapsed": true,
    "ExecuteTime": {
     "end_time": "2024-05-25T15:53:22.667858Z",
     "start_time": "2024-05-25T15:53:22.624626Z"
    }
   },
   "outputs": [
    {
     "data": {
      "text/plain": "    src                                         pre_config  \\\n0     0  hostname R0\\n!\\ninterface GigabitEthernet0/0\\n...   \n1     1  hostname R1\\n!\\ninterface GigabitEthernet0/0\\n...   \n2     2  hostname R2\\n!\\ninterface GigabitEthernet0/0\\n...   \n3     3  hostname R3\\n!\\ninterface GigabitEthernet0/0\\n...   \n4     4  hostname R4\\n!\\ninterface GigabitEthernet0/0\\n...   \n5     5  hostname R5\\n!\\ninterface GigabitEthernet0/0\\n...   \n6     6  hostname R6\\n!\\ninterface GigabitEthernet0/0\\n...   \n7     7  hostname R7\\n!\\ninterface GigabitEthernet0/0\\n...   \n8     8  hostname R8\\n!\\ninterface GigabitEthernet0/0\\n...   \n9     9  hostname R9\\n!\\ninterface GigabitEthernet0/0\\n...   \n10   10  hostname R10\\n!\\ninterface GigabitEthernet0/0\\...   \n11   11  hostname R11\\n!\\ninterface GigabitEthernet0/0\\...   \n12   12  hostname R12\\n!\\ninterface GigabitEthernet0/0\\...   \n13   13  hostname R13\\n!\\ninterface GigabitEthernet0/0\\...   \n14   14  hostname R14\\n!\\ninterface GigabitEthernet0/0\\...   \n\n                                           cur_config  dst  \\\n0   hostname R0\\n!\\ninterface GigabitEthernet0/0\\n...    1   \n1   hostname R1\\n!\\ninterface GigabitEthernet0/0\\n...   11   \n2   hostname R2\\n!\\ninterface GigabitEthernet0/0\\n...    8   \n3   hostname R3\\n!\\ninterface GigabitEthernet0/0\\n...   11   \n4   hostname R4\\n!\\ninterface GigabitEthernet0/0\\n...    3   \n5   hostname R5\\n!\\ninterface GigabitEthernet0/0\\n...    1   \n6   hostname R6\\n!\\ninterface GigabitEthernet0/0\\n...    0   \n7   hostname R7\\n!\\ninterface GigabitEthernet0/0\\n...    1   \n8   hostname R8\\n!\\ninterface GigabitEthernet0/0\\n...   13   \n9   hostname R9\\n!\\ninterface GigabitEthernet0/0\\n...   13   \n10  hostname R10\\n!\\ninterface GigabitEthernet0/0\\...    9   \n11  hostname R11\\n!\\ninterface GigabitEthernet0/0\\...   10   \n12  hostname R12\\n!\\ninterface GigabitEthernet0/0\\...   13   \n13  hostname R13\\n!\\ninterface GigabitEthernet0/0\\...    6   \n14  hostname R14\\n!\\ninterface GigabitEthernet0/0\\...   12   \n\n                 pre_path              cur_path  changed  avgDelay  avgJitter  \\\n0           [0, 2, 14, 1]                [0, 1]        1  1.408900   0.000002   \n1                 [1, 11]               [1, 11]        0  0.007559   0.000012   \n2           [2, 13, 3, 8]             [2, 6, 8]        1  0.165149   0.003498   \n3           [3, 8, 5, 11]         [3, 8, 5, 11]        0  0.172689   0.000543   \n4               [4, 8, 3]             [4, 8, 3]        0  0.063115   0.000015   \n5          [5, 12, 10, 1]            [5, 11, 1]        1  0.306271   0.000701   \n6       [6, 13, 1, 14, 0]          [6, 8, 9, 0]        1  1.540460   0.023705   \n7              [7, 10, 1]             [7, 0, 1]        1  0.350655   0.000000   \n8           [8, 3, 6, 13]         [8, 3, 6, 13]        0  0.411355   0.042931   \n9              [9, 2, 13]            [9, 2, 13]        0  1.348510   0.017653   \n10             [10, 7, 9]            [10, 7, 9]        0  0.433161   0.000130   \n11               [11, 10]              [11, 10]        0  2.077090   0.456647   \n12    [12, 10, 1, 14, 13]     [12, 7, 9, 2, 13]        1  1.599980   0.000589   \n13             [13, 3, 6]            [13, 2, 6]        1  0.461567   0.047714   \n14  [14, 13, 3, 8, 5, 12]  [14, 2, 6, 8, 5, 12]        1  0.693145   0.002598   \n\n    pkgLossRate  \n0      0.000000  \n1      0.000000  \n2      0.000000  \n3      0.000000  \n4      0.000000  \n5      0.000000  \n6      0.000000  \n7      0.000000  \n8      0.000000  \n9      0.001002  \n10     0.000000  \n11     0.000999  \n12     0.000000  \n13     0.000000  \n14     0.000000  ",
      "text/html": "<div>\n<style scoped>\n    .dataframe tbody tr th:only-of-type {\n        vertical-align: middle;\n    }\n\n    .dataframe tbody tr th {\n        vertical-align: top;\n    }\n\n    .dataframe thead th {\n        text-align: right;\n    }\n</style>\n<table border=\"1\" class=\"dataframe\">\n  <thead>\n    <tr style=\"text-align: right;\">\n      <th></th>\n      <th>src</th>\n      <th>pre_config</th>\n      <th>cur_config</th>\n      <th>dst</th>\n      <th>pre_path</th>\n      <th>cur_path</th>\n      <th>changed</th>\n      <th>avgDelay</th>\n      <th>avgJitter</th>\n      <th>pkgLossRate</th>\n    </tr>\n  </thead>\n  <tbody>\n    <tr>\n      <th>0</th>\n      <td>0</td>\n      <td>hostname R0\\n!\\ninterface GigabitEthernet0/0\\n...</td>\n      <td>hostname R0\\n!\\ninterface GigabitEthernet0/0\\n...</td>\n      <td>1</td>\n      <td>[0, 2, 14, 1]</td>\n      <td>[0, 1]</td>\n      <td>1</td>\n      <td>1.408900</td>\n      <td>0.000002</td>\n      <td>0.000000</td>\n    </tr>\n    <tr>\n      <th>1</th>\n      <td>1</td>\n      <td>hostname R1\\n!\\ninterface GigabitEthernet0/0\\n...</td>\n      <td>hostname R1\\n!\\ninterface GigabitEthernet0/0\\n...</td>\n      <td>11</td>\n      <td>[1, 11]</td>\n      <td>[1, 11]</td>\n      <td>0</td>\n      <td>0.007559</td>\n      <td>0.000012</td>\n      <td>0.000000</td>\n    </tr>\n    <tr>\n      <th>2</th>\n      <td>2</td>\n      <td>hostname R2\\n!\\ninterface GigabitEthernet0/0\\n...</td>\n      <td>hostname R2\\n!\\ninterface GigabitEthernet0/0\\n...</td>\n      <td>8</td>\n      <td>[2, 13, 3, 8]</td>\n      <td>[2, 6, 8]</td>\n      <td>1</td>\n      <td>0.165149</td>\n      <td>0.003498</td>\n      <td>0.000000</td>\n    </tr>\n    <tr>\n      <th>3</th>\n      <td>3</td>\n      <td>hostname R3\\n!\\ninterface GigabitEthernet0/0\\n...</td>\n      <td>hostname R3\\n!\\ninterface GigabitEthernet0/0\\n...</td>\n      <td>11</td>\n      <td>[3, 8, 5, 11]</td>\n      <td>[3, 8, 5, 11]</td>\n      <td>0</td>\n      <td>0.172689</td>\n      <td>0.000543</td>\n      <td>0.000000</td>\n    </tr>\n    <tr>\n      <th>4</th>\n      <td>4</td>\n      <td>hostname R4\\n!\\ninterface GigabitEthernet0/0\\n...</td>\n      <td>hostname R4\\n!\\ninterface GigabitEthernet0/0\\n...</td>\n      <td>3</td>\n      <td>[4, 8, 3]</td>\n      <td>[4, 8, 3]</td>\n      <td>0</td>\n      <td>0.063115</td>\n      <td>0.000015</td>\n      <td>0.000000</td>\n    </tr>\n    <tr>\n      <th>5</th>\n      <td>5</td>\n      <td>hostname R5\\n!\\ninterface GigabitEthernet0/0\\n...</td>\n      <td>hostname R5\\n!\\ninterface GigabitEthernet0/0\\n...</td>\n      <td>1</td>\n      <td>[5, 12, 10, 1]</td>\n      <td>[5, 11, 1]</td>\n      <td>1</td>\n      <td>0.306271</td>\n      <td>0.000701</td>\n      <td>0.000000</td>\n    </tr>\n    <tr>\n      <th>6</th>\n      <td>6</td>\n      <td>hostname R6\\n!\\ninterface GigabitEthernet0/0\\n...</td>\n      <td>hostname R6\\n!\\ninterface GigabitEthernet0/0\\n...</td>\n      <td>0</td>\n      <td>[6, 13, 1, 14, 0]</td>\n      <td>[6, 8, 9, 0]</td>\n      <td>1</td>\n      <td>1.540460</td>\n      <td>0.023705</td>\n      <td>0.000000</td>\n    </tr>\n    <tr>\n      <th>7</th>\n      <td>7</td>\n      <td>hostname R7\\n!\\ninterface GigabitEthernet0/0\\n...</td>\n      <td>hostname R7\\n!\\ninterface GigabitEthernet0/0\\n...</td>\n      <td>1</td>\n      <td>[7, 10, 1]</td>\n      <td>[7, 0, 1]</td>\n      <td>1</td>\n      <td>0.350655</td>\n      <td>0.000000</td>\n      <td>0.000000</td>\n    </tr>\n    <tr>\n      <th>8</th>\n      <td>8</td>\n      <td>hostname R8\\n!\\ninterface GigabitEthernet0/0\\n...</td>\n      <td>hostname R8\\n!\\ninterface GigabitEthernet0/0\\n...</td>\n      <td>13</td>\n      <td>[8, 3, 6, 13]</td>\n      <td>[8, 3, 6, 13]</td>\n      <td>0</td>\n      <td>0.411355</td>\n      <td>0.042931</td>\n      <td>0.000000</td>\n    </tr>\n    <tr>\n      <th>9</th>\n      <td>9</td>\n      <td>hostname R9\\n!\\ninterface GigabitEthernet0/0\\n...</td>\n      <td>hostname R9\\n!\\ninterface GigabitEthernet0/0\\n...</td>\n      <td>13</td>\n      <td>[9, 2, 13]</td>\n      <td>[9, 2, 13]</td>\n      <td>0</td>\n      <td>1.348510</td>\n      <td>0.017653</td>\n      <td>0.001002</td>\n    </tr>\n    <tr>\n      <th>10</th>\n      <td>10</td>\n      <td>hostname R10\\n!\\ninterface GigabitEthernet0/0\\...</td>\n      <td>hostname R10\\n!\\ninterface GigabitEthernet0/0\\...</td>\n      <td>9</td>\n      <td>[10, 7, 9]</td>\n      <td>[10, 7, 9]</td>\n      <td>0</td>\n      <td>0.433161</td>\n      <td>0.000130</td>\n      <td>0.000000</td>\n    </tr>\n    <tr>\n      <th>11</th>\n      <td>11</td>\n      <td>hostname R11\\n!\\ninterface GigabitEthernet0/0\\...</td>\n      <td>hostname R11\\n!\\ninterface GigabitEthernet0/0\\...</td>\n      <td>10</td>\n      <td>[11, 10]</td>\n      <td>[11, 10]</td>\n      <td>0</td>\n      <td>2.077090</td>\n      <td>0.456647</td>\n      <td>0.000999</td>\n    </tr>\n    <tr>\n      <th>12</th>\n      <td>12</td>\n      <td>hostname R12\\n!\\ninterface GigabitEthernet0/0\\...</td>\n      <td>hostname R12\\n!\\ninterface GigabitEthernet0/0\\...</td>\n      <td>13</td>\n      <td>[12, 10, 1, 14, 13]</td>\n      <td>[12, 7, 9, 2, 13]</td>\n      <td>1</td>\n      <td>1.599980</td>\n      <td>0.000589</td>\n      <td>0.000000</td>\n    </tr>\n    <tr>\n      <th>13</th>\n      <td>13</td>\n      <td>hostname R13\\n!\\ninterface GigabitEthernet0/0\\...</td>\n      <td>hostname R13\\n!\\ninterface GigabitEthernet0/0\\...</td>\n      <td>6</td>\n      <td>[13, 3, 6]</td>\n      <td>[13, 2, 6]</td>\n      <td>1</td>\n      <td>0.461567</td>\n      <td>0.047714</td>\n      <td>0.000000</td>\n    </tr>\n    <tr>\n      <th>14</th>\n      <td>14</td>\n      <td>hostname R14\\n!\\ninterface GigabitEthernet0/0\\...</td>\n      <td>hostname R14\\n!\\ninterface GigabitEthernet0/0\\...</td>\n      <td>12</td>\n      <td>[14, 13, 3, 8, 5, 12]</td>\n      <td>[14, 2, 6, 8, 5, 12]</td>\n      <td>1</td>\n      <td>0.693145</td>\n      <td>0.002598</td>\n      <td>0.000000</td>\n    </tr>\n  </tbody>\n</table>\n</div>"
     },
     "execution_count": 46,
     "metadata": {},
     "output_type": "execute_result"
    }
   ],
   "source": [
    "import pandas as pd \n",
    "df = pd.read_json('ospf_update_dataset/m/900/dataset.jsonl', lines=True)\n",
    "df"
   ]
  },
  {
   "cell_type": "code",
   "execution_count": 7,
   "outputs": [],
   "source": [
    "import os\n",
    "import re\n",
    "import pandas as pd \n",
    "def get_sub_dataset(dir_path):\n",
    "    file_dict = {}\n",
    "    for filename in os.listdir(dir_path):\n",
    "        if filename.isdigit():\n",
    "            # 构造完整的文件路径\n",
    "            file_path = os.path.join(dir_path, filename, 'dataset.jsonl')\n",
    "            file_dict[int(filename)] = file_path\n",
    "    return file_dict\n",
    "\n",
    "dataset_files = get_sub_dataset('ospf_update_dataset/s')\n",
    "\n",
    "for netid, dataset_file in dataset_files.items():\n",
    "    dataset_df = pd.read_json(dataset_file, lines=True)\n",
    "    dataset_df['pkgLossRate'] = 1 - dataset_df['pkgLossRate']\n",
    "    dataset_df.to_json(dataset_file, orient=\"records\", lines=True)"
   ],
   "metadata": {
    "collapsed": false,
    "ExecuteTime": {
     "end_time": "2024-05-25T03:13:08.550699Z",
     "start_time": "2024-05-25T03:13:06.397455Z"
    }
   },
   "id": "679cb14d65753fa1"
  },
  {
   "cell_type": "code",
   "execution_count": 25,
   "outputs": [
    {
     "name": "stdout",
     "output_type": "stream",
     "text": [
      "{'status': 'failed', 'message': 'Command failed with error:   OMNeT++ Discrete Event Simulation  (C) 1992-2022 Andras Varga, OpenSim Ltd.\\nVersion: 6.0.3, build: 240223-17fcae5ef3, edition: Academic Public License -- NOT FOR COMMERCIAL USE\\nSee the license for distribution terms and warranty disclaimer\\n\\nSetting up Cmdenv...\\n\\nLoading NED files from .:  8\\nLoading NED files from ../inet4.5/src:  1187\\n\\n<!> Error: Redeclaration of compound-module networks.Myned2, at /Users/zhangyuan/Desktop/netowrk_sim/routing/networks/Myned2.ned:6\\n\\nEnd.\\n'}\n"
     ]
    },
    {
     "ename": "TypeError",
     "evalue": "the JSON object must be str, bytes or bytearray, not dict",
     "output_type": "error",
     "traceback": [
      "\u001B[0;31m---------------------------------------------------------------------------\u001B[0m",
      "\u001B[0;31mTypeError\u001B[0m                                 Traceback (most recent call last)",
      "Cell \u001B[0;32mIn[25], line 29\u001B[0m\n\u001B[1;32m     27\u001B[0m m\u001B[38;5;241m.\u001B[39mfields[\u001B[38;5;124m'\u001B[39m\u001B[38;5;124mned_file\u001B[39m\u001B[38;5;124m'\u001B[39m][\u001B[38;5;241m1\u001B[39m]\u001B[38;5;241m.\u001B[39mclose()\n\u001B[1;32m     28\u001B[0m \u001B[38;5;66;03m# 打印响应内容\u001B[39;00m\n\u001B[0;32m---> 29\u001B[0m data \u001B[38;5;241m=\u001B[39m \u001B[43mjson\u001B[49m\u001B[38;5;241;43m.\u001B[39;49m\u001B[43mloads\u001B[49m\u001B[43m(\u001B[49m\u001B[43mresponse\u001B[49m\u001B[38;5;241;43m.\u001B[39;49m\u001B[43mjson\u001B[49m\u001B[43m(\u001B[49m\u001B[43m)\u001B[49m\u001B[43m)\u001B[49m\n\u001B[1;32m     30\u001B[0m \u001B[38;5;28mprint\u001B[39m(data[\u001B[38;5;241m0\u001B[39m])\n",
      "File \u001B[0;32m~/miniconda3/envs/deeplearn/lib/python3.10/json/__init__.py:339\u001B[0m, in \u001B[0;36mloads\u001B[0;34m(s, cls, object_hook, parse_float, parse_int, parse_constant, object_pairs_hook, **kw)\u001B[0m\n\u001B[1;32m    337\u001B[0m \u001B[38;5;28;01melse\u001B[39;00m:\n\u001B[1;32m    338\u001B[0m     \u001B[38;5;28;01mif\u001B[39;00m \u001B[38;5;129;01mnot\u001B[39;00m \u001B[38;5;28misinstance\u001B[39m(s, (\u001B[38;5;28mbytes\u001B[39m, \u001B[38;5;28mbytearray\u001B[39m)):\n\u001B[0;32m--> 339\u001B[0m         \u001B[38;5;28;01mraise\u001B[39;00m \u001B[38;5;167;01mTypeError\u001B[39;00m(\u001B[38;5;124mf\u001B[39m\u001B[38;5;124m'\u001B[39m\u001B[38;5;124mthe JSON object must be str, bytes or bytearray, \u001B[39m\u001B[38;5;124m'\u001B[39m\n\u001B[1;32m    340\u001B[0m                         \u001B[38;5;124mf\u001B[39m\u001B[38;5;124m'\u001B[39m\u001B[38;5;124mnot \u001B[39m\u001B[38;5;132;01m{\u001B[39;00ms\u001B[38;5;241m.\u001B[39m\u001B[38;5;18m__class__\u001B[39m\u001B[38;5;241m.\u001B[39m\u001B[38;5;18m__name__\u001B[39m\u001B[38;5;132;01m}\u001B[39;00m\u001B[38;5;124m'\u001B[39m)\n\u001B[1;32m    341\u001B[0m     s \u001B[38;5;241m=\u001B[39m s\u001B[38;5;241m.\u001B[39mdecode(detect_encoding(s), \u001B[38;5;124m'\u001B[39m\u001B[38;5;124msurrogatepass\u001B[39m\u001B[38;5;124m'\u001B[39m)\n\u001B[1;32m    343\u001B[0m \u001B[38;5;28;01mif\u001B[39;00m (\u001B[38;5;28mcls\u001B[39m \u001B[38;5;129;01mis\u001B[39;00m \u001B[38;5;28;01mNone\u001B[39;00m \u001B[38;5;129;01mand\u001B[39;00m object_hook \u001B[38;5;129;01mis\u001B[39;00m \u001B[38;5;28;01mNone\u001B[39;00m \u001B[38;5;129;01mand\u001B[39;00m\n\u001B[1;32m    344\u001B[0m         parse_int \u001B[38;5;129;01mis\u001B[39;00m \u001B[38;5;28;01mNone\u001B[39;00m \u001B[38;5;129;01mand\u001B[39;00m parse_float \u001B[38;5;129;01mis\u001B[39;00m \u001B[38;5;28;01mNone\u001B[39;00m \u001B[38;5;129;01mand\u001B[39;00m\n\u001B[1;32m    345\u001B[0m         parse_constant \u001B[38;5;129;01mis\u001B[39;00m \u001B[38;5;28;01mNone\u001B[39;00m \u001B[38;5;129;01mand\u001B[39;00m object_pairs_hook \u001B[38;5;129;01mis\u001B[39;00m \u001B[38;5;28;01mNone\u001B[39;00m \u001B[38;5;129;01mand\u001B[39;00m \u001B[38;5;129;01mnot\u001B[39;00m kw):\n",
      "\u001B[0;31mTypeError\u001B[0m: the JSON object must be str, bytes or bytearray, not dict"
     ]
    }
   ],
   "source": [
    "import json\n",
    "import requests\n",
    "from requests_toolbelt.multipart.encoder import MultipartEncoder\n",
    "\n",
    "# 接口的URL\n",
    "url = \"http://127.0.0.1:8000/network_simulation/\"\n",
    "net_id = '2'\n",
    "\n",
    "# 要上传的文件路径\n",
    "ini_path = f\"ospf_update_dataset/omnet_file/l/ini_dir/omnetpp{net_id}.ini\"\n",
    "ned_path = f\"ospf_update_dataset/omnet_file/l/networks/Myned{net_id}.ned\"\n",
    "\n",
    "# 创建一个MultipartEncoder对象来处理文件上传\n",
    "\n",
    "m = MultipartEncoder(\n",
    "    fields={\n",
    "        'net_id': (None, net_id), \n",
    "        'ini_file': (f'omnetpp{net_id}.ini', open(ini_path, 'rb'), 'application/octet-stream'),\n",
    "        'ned_file': (f'Myned{net_id}.ned', open(ned_path, 'rb'), 'application/octet-stream'),\n",
    "    }\n",
    ")\n",
    "\n",
    "# 发送POST请求\n",
    "response = requests.post(url, data=m, headers={'Content-Type': m.content_type})\n",
    "print(response.json())\n",
    "m.fields['ini_file'][1].close()\n",
    "m.fields['ned_file'][1].close()\n",
    "# 打印响应内容\n",
    "data = json.loads(response.json())\n",
    "print(data[0])"
   ],
   "metadata": {
    "collapsed": false,
    "ExecuteTime": {
     "end_time": "2024-05-31T12:19:55.662787Z",
     "start_time": "2024-05-31T12:19:55.265263Z"
    }
   },
   "id": "974af040f96626a1"
  },
  {
   "cell_type": "code",
   "execution_count": 38,
   "outputs": [
    {
     "name": "stdout",
     "output_type": "stream",
     "text": [
      "{'detail': [{'type': 'missing', 'loc': ['query', 'net_id'], 'msg': 'Field required', 'input': None}]}\n"
     ]
    }
   ],
   "source": [
    "import requests\n",
    "from requests_toolbelt.multipart.encoder import MultipartEncoder\n",
    "\n",
    "# 接口的URL\n",
    "url = \"http://127.0.0.1:8000/network_simulation/\"\n",
    "\n",
    "# 要上传的文件路径\n",
    "ini_path = \"ospf_update_dataset/omnet_file/m/ini_dir/omnetpp0.ini\"\n",
    "ned_path = \"ospf_update_dataset/omnet_file/m/networks/Myned0.ned\"\n",
    "\n",
    "net_id = '0'\n",
    "# 创建一个MultipartEncoder对象来处理文件上传\n",
    "\n",
    "\n",
    "with open(ini_path, \"rb\") as ini_file, open(ned_path, \"rb\") as ned_file:\n",
    "    files = {\n",
    "        \"file0\": ini_file,\n",
    "        \"file1\": ned_file\n",
    "    }\n",
    "    data = {\n",
    "        \"net_id\": net_id\n",
    "    }\n",
    "    response = requests.post(url, files=files) \n",
    "  \n",
    "# 打印响应内容\n",
    "print(response.json())"
   ],
   "metadata": {
    "collapsed": false,
    "ExecuteTime": {
     "end_time": "2024-05-25T14:59:59.685336Z",
     "start_time": "2024-05-25T14:59:59.673658Z"
    }
   },
   "id": "968798fbe69a3000"
  },
  {
   "cell_type": "code",
   "execution_count": null,
   "outputs": [],
   "source": [],
   "metadata": {
    "collapsed": false
   },
   "id": "dbf18d2f75a2e53d"
  }
 ],
 "metadata": {
  "kernelspec": {
   "display_name": "Python 3",
   "language": "python",
   "name": "python3"
  },
  "language_info": {
   "codemirror_mode": {
    "name": "ipython",
    "version": 2
   },
   "file_extension": ".py",
   "mimetype": "text/x-python",
   "name": "python",
   "nbconvert_exporter": "python",
   "pygments_lexer": "ipython2",
   "version": "2.7.6"
  }
 },
 "nbformat": 4,
 "nbformat_minor": 5
}
