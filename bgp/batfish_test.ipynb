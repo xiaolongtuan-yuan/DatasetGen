{
 "cells": [
  {
   "cell_type": "code",
   "execution_count": 2,
   "id": "initial_id",
   "metadata": {
    "collapsed": true,
    "ExecuteTime": {
     "end_time": "2024-05-04T09:47:18.652118Z",
     "start_time": "2024-05-04T09:47:15.770006Z"
    }
   },
   "outputs": [],
   "source": [
    "from pybatfish.client.session import Session\n",
    "from pybatfish.datamodel import HeaderConstraints"
   ]
  },
  {
   "cell_type": "code",
   "execution_count": 3,
   "outputs": [],
   "source": [
    "network_root = 'data/0'\n",
    "net_name = 'bgp0'"
   ],
   "metadata": {
    "collapsed": false,
    "ExecuteTime": {
     "end_time": "2024-05-04T09:47:19.873829Z",
     "start_time": "2024-05-04T09:47:19.834167Z"
    }
   },
   "id": "eedeeaa2a0ee49f7"
  },
  {
   "cell_type": "code",
   "execution_count": 4,
   "outputs": [
    {
     "data": {
      "text/plain": "'bgp0'"
     },
     "execution_count": 4,
     "metadata": {},
     "output_type": "execute_result"
    }
   ],
   "source": [
    "bf = Session(host=\"localhost\")\n",
    "bf.init_snapshot(network_root, name=net_name, overwrite=True)"
   ],
   "metadata": {
    "collapsed": false,
    "ExecuteTime": {
     "end_time": "2024-05-04T09:47:25.774518Z",
     "start_time": "2024-05-04T09:47:20.884068Z"
    }
   },
   "id": "1477f485539828d7"
  },
  {
   "cell_type": "code",
   "execution_count": 5,
   "outputs": [
    {
     "data": {
      "text/plain": "Empty DataFrame\nColumns: [Nodes, Source_Lines, Type, Details, Line_Text, Parser_Context]\nIndex: []",
      "text/html": "<div>\n<style scoped>\n    .dataframe tbody tr th:only-of-type {\n        vertical-align: middle;\n    }\n\n    .dataframe tbody tr th {\n        vertical-align: top;\n    }\n\n    .dataframe thead th {\n        text-align: right;\n    }\n</style>\n<table border=\"1\" class=\"dataframe\">\n  <thead>\n    <tr style=\"text-align: right;\">\n      <th></th>\n      <th>Nodes</th>\n      <th>Source_Lines</th>\n      <th>Type</th>\n      <th>Details</th>\n      <th>Line_Text</th>\n      <th>Parser_Context</th>\n    </tr>\n  </thead>\n  <tbody>\n  </tbody>\n</table>\n</div>"
     },
     "execution_count": 5,
     "metadata": {},
     "output_type": "execute_result"
    }
   ],
   "source": [
    "bf.q.initIssues().answer().frame()"
   ],
   "metadata": {
    "collapsed": false,
    "ExecuteTime": {
     "end_time": "2024-05-04T09:47:27.693550Z",
     "start_time": "2024-05-04T09:47:27.336662Z"
    }
   },
   "id": "3adcc392e4894dd7"
  },
  {
   "cell_type": "code",
   "execution_count": 6,
   "outputs": [
    {
     "data": {
      "text/plain": "  Node      VRF Router_ID Confederation_ID Confederation_Members  \\\n0   c4  default   1.1.1.5             None                  None   \n1   c1  default   1.1.1.2             None                  None   \n2   c2  default   1.1.1.3             None                  None   \n3   c3  default   1.1.1.4             None                  None   \n4   c0  default   1.1.1.1             None                  None   \n5   c6  default   1.1.1.7             None                  None   \n6   c5  default   1.1.1.6             None                  None   \n\n  Multipath_EBGP Multipath_IBGP Multipath_Match_Mode  \\\n0          False          False           EXACT_PATH   \n1          False          False           EXACT_PATH   \n2          False          False           EXACT_PATH   \n3          False          False           EXACT_PATH   \n4          False          False           EXACT_PATH   \n5          False          False           EXACT_PATH   \n6          False          False           EXACT_PATH   \n\n                                      Neighbors Route_Reflector    Tie_Breaker  \n0                        ['1.0.7.2', '1.0.8.2']           False  ARRIVAL_ORDER  \n1                                   ['1.1.1.3']           False  ARRIVAL_ORDER  \n2  ['1.1.1.1', '1.1.1.2', '1.1.1.6', '1.1.1.7']            True  ARRIVAL_ORDER  \n3                                   ['1.1.1.1']           False  ARRIVAL_ORDER  \n4                        ['1.1.1.3', '1.1.1.4']            True  ARRIVAL_ORDER  \n5                        ['1.0.8.1', '1.1.1.3']           False  ARRIVAL_ORDER  \n6                        ['1.0.7.1', '1.1.1.3']           False  ARRIVAL_ORDER  ",
      "text/html": "<div>\n<style scoped>\n    .dataframe tbody tr th:only-of-type {\n        vertical-align: middle;\n    }\n\n    .dataframe tbody tr th {\n        vertical-align: top;\n    }\n\n    .dataframe thead th {\n        text-align: right;\n    }\n</style>\n<table border=\"1\" class=\"dataframe\">\n  <thead>\n    <tr style=\"text-align: right;\">\n      <th></th>\n      <th>Node</th>\n      <th>VRF</th>\n      <th>Router_ID</th>\n      <th>Confederation_ID</th>\n      <th>Confederation_Members</th>\n      <th>Multipath_EBGP</th>\n      <th>Multipath_IBGP</th>\n      <th>Multipath_Match_Mode</th>\n      <th>Neighbors</th>\n      <th>Route_Reflector</th>\n      <th>Tie_Breaker</th>\n    </tr>\n  </thead>\n  <tbody>\n    <tr>\n      <th>0</th>\n      <td>c4</td>\n      <td>default</td>\n      <td>1.1.1.5</td>\n      <td>None</td>\n      <td>None</td>\n      <td>False</td>\n      <td>False</td>\n      <td>EXACT_PATH</td>\n      <td>['1.0.7.2', '1.0.8.2']</td>\n      <td>False</td>\n      <td>ARRIVAL_ORDER</td>\n    </tr>\n    <tr>\n      <th>1</th>\n      <td>c1</td>\n      <td>default</td>\n      <td>1.1.1.2</td>\n      <td>None</td>\n      <td>None</td>\n      <td>False</td>\n      <td>False</td>\n      <td>EXACT_PATH</td>\n      <td>['1.1.1.3']</td>\n      <td>False</td>\n      <td>ARRIVAL_ORDER</td>\n    </tr>\n    <tr>\n      <th>2</th>\n      <td>c2</td>\n      <td>default</td>\n      <td>1.1.1.3</td>\n      <td>None</td>\n      <td>None</td>\n      <td>False</td>\n      <td>False</td>\n      <td>EXACT_PATH</td>\n      <td>['1.1.1.1', '1.1.1.2', '1.1.1.6', '1.1.1.7']</td>\n      <td>True</td>\n      <td>ARRIVAL_ORDER</td>\n    </tr>\n    <tr>\n      <th>3</th>\n      <td>c3</td>\n      <td>default</td>\n      <td>1.1.1.4</td>\n      <td>None</td>\n      <td>None</td>\n      <td>False</td>\n      <td>False</td>\n      <td>EXACT_PATH</td>\n      <td>['1.1.1.1']</td>\n      <td>False</td>\n      <td>ARRIVAL_ORDER</td>\n    </tr>\n    <tr>\n      <th>4</th>\n      <td>c0</td>\n      <td>default</td>\n      <td>1.1.1.1</td>\n      <td>None</td>\n      <td>None</td>\n      <td>False</td>\n      <td>False</td>\n      <td>EXACT_PATH</td>\n      <td>['1.1.1.3', '1.1.1.4']</td>\n      <td>True</td>\n      <td>ARRIVAL_ORDER</td>\n    </tr>\n    <tr>\n      <th>5</th>\n      <td>c6</td>\n      <td>default</td>\n      <td>1.1.1.7</td>\n      <td>None</td>\n      <td>None</td>\n      <td>False</td>\n      <td>False</td>\n      <td>EXACT_PATH</td>\n      <td>['1.0.8.1', '1.1.1.3']</td>\n      <td>False</td>\n      <td>ARRIVAL_ORDER</td>\n    </tr>\n    <tr>\n      <th>6</th>\n      <td>c5</td>\n      <td>default</td>\n      <td>1.1.1.6</td>\n      <td>None</td>\n      <td>None</td>\n      <td>False</td>\n      <td>False</td>\n      <td>EXACT_PATH</td>\n      <td>['1.0.7.1', '1.1.1.3']</td>\n      <td>False</td>\n      <td>ARRIVAL_ORDER</td>\n    </tr>\n  </tbody>\n</table>\n</div>"
     },
     "execution_count": 6,
     "metadata": {},
     "output_type": "execute_result"
    }
   ],
   "source": [
    "bgp_config = bf.q.bgpProcessConfiguration().answer().frame()\n",
    "bgp_config"
   ],
   "metadata": {
    "collapsed": false,
    "ExecuteTime": {
     "end_time": "2024-05-04T09:47:29.934411Z",
     "start_time": "2024-05-04T09:47:29.754400Z"
    }
   },
   "id": "3199e3c87422d3d2"
  },
  {
   "cell_type": "code",
   "execution_count": 8,
   "outputs": [
    {
     "data": {
      "text/plain": "Trace(disposition='ACCEPTED', hops=[Hop(node='c1', steps=[Step(detail=EnterInputIfaceStepDetail(inputInterface='GigabitEthernet1', inputVrf='default'), action='RECEIVED'), Step(detail=RoutingStepDetail(routes=[RouteInfo(protocol='ospf', network='1.0.7.0/24', nextHop=NextHopInterface(interface='GigabitEthernet3', ip='1.0.4.2', type='interface'), nextHopIp=None, admin=110, metric=6)], forwardingDetail=ForwardedOutInterface(outputInterface='GigabitEthernet3', resolvedNextHopIp='1.0.4.2', type='ForwardedOutInterface'), arpIp='1.0.4.2', outputInterface='GigabitEthernet3'), action='FORWARDED'), Step(detail=ExitOutputIfaceStepDetail(outputInterface='GigabitEthernet3', transformedFlow=None), action='TRANSMITTED')]), Hop(node='c2', steps=[Step(detail=EnterInputIfaceStepDetail(inputInterface='GigabitEthernet2', inputVrf='default'), action='RECEIVED'), Step(detail=RoutingStepDetail(routes=[RouteInfo(protocol='ospf', network='1.0.7.0/24', nextHop=NextHopInterface(interface='GigabitEthernet3', ip='1.0.5.2', type='interface'), nextHopIp=None, admin=110, metric=2)], forwardingDetail=ForwardedOutInterface(outputInterface='GigabitEthernet3', resolvedNextHopIp='1.0.5.2', type='ForwardedOutInterface'), arpIp='1.0.5.2', outputInterface='GigabitEthernet3'), action='FORWARDED'), Step(detail=ExitOutputIfaceStepDetail(outputInterface='GigabitEthernet3', transformedFlow=None), action='TRANSMITTED')]), Hop(node='c5', steps=[Step(detail=EnterInputIfaceStepDetail(inputInterface='GigabitEthernet1', inputVrf='default'), action='RECEIVED'), Step(detail=RoutingStepDetail(routes=[RouteInfo(protocol='connected', network='1.0.7.0/24', nextHop=NextHopInterface(interface='GigabitEthernet2', ip=None, type='interface'), nextHopIp=None, admin=0, metric=0)], forwardingDetail=ForwardedOutInterface(outputInterface='GigabitEthernet2', resolvedNextHopIp=None, type='ForwardedOutInterface'), arpIp=None, outputInterface='GigabitEthernet2'), action='FORWARDED'), Step(detail=ExitOutputIfaceStepDetail(outputInterface='GigabitEthernet2', transformedFlow=None), action='TRANSMITTED')]), Hop(node='c4', steps=[Step(detail=EnterInputIfaceStepDetail(inputInterface='GigabitEthernet1', inputVrf='default'), action='RECEIVED'), Step(detail=InboundStepDetail(interface='GigabitEthernet1'), action='ACCEPTED')])])",
      "text/html": "<span style=\"color:#019612; text-weight:bold;\">ACCEPTED</span><br><strong>1</strong>. node: c1<br>&nbsp;&nbsp;RECEIVED(GigabitEthernet1)<br>&nbsp;&nbsp;FORWARDED(Forwarded out interface: GigabitEthernet3 with resolved next-hop IP: 1.0.4.2, Routes: [ospf (Network: 1.0.7.0/24, Next Hop: interface GigabitEthernet3 ip 1.0.4.2)])<br>&nbsp;&nbsp;TRANSMITTED(GigabitEthernet3)<br><strong>2</strong>. node: c2<br>&nbsp;&nbsp;RECEIVED(GigabitEthernet2)<br>&nbsp;&nbsp;FORWARDED(Forwarded out interface: GigabitEthernet3 with resolved next-hop IP: 1.0.5.2, Routes: [ospf (Network: 1.0.7.0/24, Next Hop: interface GigabitEthernet3 ip 1.0.5.2)])<br>&nbsp;&nbsp;TRANSMITTED(GigabitEthernet3)<br><strong>3</strong>. node: c5<br>&nbsp;&nbsp;RECEIVED(GigabitEthernet1)<br>&nbsp;&nbsp;FORWARDED(Forwarded out interface: GigabitEthernet2, Routes: [connected (Network: 1.0.7.0/24, Next Hop: interface GigabitEthernet2)])<br>&nbsp;&nbsp;TRANSMITTED(GigabitEthernet2)<br><strong>4</strong>. node: c4<br>&nbsp;&nbsp;RECEIVED(GigabitEthernet1)<br>&nbsp;&nbsp;ACCEPTED(GigabitEthernet1)"
     },
     "execution_count": 8,
     "metadata": {},
     "output_type": "execute_result"
    }
   ],
   "source": [
    "bf.q.traceroute(startLocation=f'@enter(c1)',headers=HeaderConstraints(dstIps='c4')).answer().frame().iloc[0,1][0]"
   ],
   "metadata": {
    "collapsed": false,
    "ExecuteTime": {
     "end_time": "2024-05-04T09:47:47.167054Z",
     "start_time": "2024-05-04T09:47:46.773838Z"
    }
   },
   "id": "455a270e53105c65"
  },
  {
   "cell_type": "markdown",
   "source": [],
   "metadata": {
    "collapsed": false
   },
   "id": "1dab33aa6b222beb"
  },
  {
   "cell_type": "code",
   "execution_count": 74,
   "outputs": [
    {
     "data": {
      "text/plain": "  Node      VRF Local_AS  Local_IP Local_Interface Confederation Remote_AS  \\\n0  c11  default        1  1.0.39.2            None          None         2   \n1  c11  default        1  1.1.1.12            None          None         1   \n\n  Remote_IP Description Route_Reflector_Client Cluster_ID Peer_Group  \\\n0  1.0.39.1        None                  False       None       None   \n1  1.0.34.1        None                  False       None       None   \n\n  Import_Policy Export_Policy Send_Community Is_Passive  \n0            []            []          False      False  \n1            []            []          False      False  ",
      "text/html": "<div>\n<style scoped>\n    .dataframe tbody tr th:only-of-type {\n        vertical-align: middle;\n    }\n\n    .dataframe tbody tr th {\n        vertical-align: top;\n    }\n\n    .dataframe thead th {\n        text-align: right;\n    }\n</style>\n<table border=\"1\" class=\"dataframe\">\n  <thead>\n    <tr style=\"text-align: right;\">\n      <th></th>\n      <th>Node</th>\n      <th>VRF</th>\n      <th>Local_AS</th>\n      <th>Local_IP</th>\n      <th>Local_Interface</th>\n      <th>Confederation</th>\n      <th>Remote_AS</th>\n      <th>Remote_IP</th>\n      <th>Description</th>\n      <th>Route_Reflector_Client</th>\n      <th>Cluster_ID</th>\n      <th>Peer_Group</th>\n      <th>Import_Policy</th>\n      <th>Export_Policy</th>\n      <th>Send_Community</th>\n      <th>Is_Passive</th>\n    </tr>\n  </thead>\n  <tbody>\n    <tr>\n      <th>0</th>\n      <td>c11</td>\n      <td>default</td>\n      <td>1</td>\n      <td>1.0.39.2</td>\n      <td>None</td>\n      <td>None</td>\n      <td>2</td>\n      <td>1.0.39.1</td>\n      <td>None</td>\n      <td>False</td>\n      <td>None</td>\n      <td>None</td>\n      <td>[]</td>\n      <td>[]</td>\n      <td>False</td>\n      <td>False</td>\n    </tr>\n    <tr>\n      <th>1</th>\n      <td>c11</td>\n      <td>default</td>\n      <td>1</td>\n      <td>1.1.1.12</td>\n      <td>None</td>\n      <td>None</td>\n      <td>1</td>\n      <td>1.0.34.1</td>\n      <td>None</td>\n      <td>False</td>\n      <td>None</td>\n      <td>None</td>\n      <td>[]</td>\n      <td>[]</td>\n      <td>False</td>\n      <td>False</td>\n    </tr>\n  </tbody>\n</table>\n</div>"
     },
     "execution_count": 74,
     "metadata": {},
     "output_type": "execute_result"
    }
   ],
   "source": [
    "bf.q.bgpPeerConfiguration(nodes='c11').answer().frame()"
   ],
   "metadata": {
    "collapsed": false,
    "ExecuteTime": {
     "end_time": "2024-04-26T01:28:20.862976Z",
     "start_time": "2024-04-26T01:28:20.476277Z"
    }
   },
   "id": "f35bfae93b8d0d2f"
  },
  {
   "cell_type": "code",
   "execution_count": 84,
   "outputs": [
    {
     "data": {
      "text/plain": "  Node      VRF Local_AS Local_Interface  Local_IP Remote_AS Remote_Node  \\\n0   c8  default        2            None  1.0.39.1         1         c11   \n1   c8  default        2            None  1.0.40.1         1         c12   \n2   c8  default        2            None  1.0.41.1         1         c13   \n\n  Remote_Interface Remote_IP  Address_Families    Session_Type  \\\n0             None  1.0.39.2  ['IPV4_UNICAST']  EBGP_SINGLEHOP   \n1             None  1.0.40.2  ['IPV4_UNICAST']  EBGP_SINGLEHOP   \n2             None  1.0.41.2  ['IPV4_UNICAST']  EBGP_SINGLEHOP   \n\n  Configured_Status  \n0      UNIQUE_MATCH  \n1      UNIQUE_MATCH  \n2      UNIQUE_MATCH  ",
      "text/html": "<div>\n<style scoped>\n    .dataframe tbody tr th:only-of-type {\n        vertical-align: middle;\n    }\n\n    .dataframe tbody tr th {\n        vertical-align: top;\n    }\n\n    .dataframe thead th {\n        text-align: right;\n    }\n</style>\n<table border=\"1\" class=\"dataframe\">\n  <thead>\n    <tr style=\"text-align: right;\">\n      <th></th>\n      <th>Node</th>\n      <th>VRF</th>\n      <th>Local_AS</th>\n      <th>Local_Interface</th>\n      <th>Local_IP</th>\n      <th>Remote_AS</th>\n      <th>Remote_Node</th>\n      <th>Remote_Interface</th>\n      <th>Remote_IP</th>\n      <th>Address_Families</th>\n      <th>Session_Type</th>\n      <th>Configured_Status</th>\n    </tr>\n  </thead>\n  <tbody>\n    <tr>\n      <th>0</th>\n      <td>c8</td>\n      <td>default</td>\n      <td>2</td>\n      <td>None</td>\n      <td>1.0.39.1</td>\n      <td>1</td>\n      <td>c11</td>\n      <td>None</td>\n      <td>1.0.39.2</td>\n      <td>['IPV4_UNICAST']</td>\n      <td>EBGP_SINGLEHOP</td>\n      <td>UNIQUE_MATCH</td>\n    </tr>\n    <tr>\n      <th>1</th>\n      <td>c8</td>\n      <td>default</td>\n      <td>2</td>\n      <td>None</td>\n      <td>1.0.40.1</td>\n      <td>1</td>\n      <td>c12</td>\n      <td>None</td>\n      <td>1.0.40.2</td>\n      <td>['IPV4_UNICAST']</td>\n      <td>EBGP_SINGLEHOP</td>\n      <td>UNIQUE_MATCH</td>\n    </tr>\n    <tr>\n      <th>2</th>\n      <td>c8</td>\n      <td>default</td>\n      <td>2</td>\n      <td>None</td>\n      <td>1.0.41.1</td>\n      <td>1</td>\n      <td>c13</td>\n      <td>None</td>\n      <td>1.0.41.2</td>\n      <td>['IPV4_UNICAST']</td>\n      <td>EBGP_SINGLEHOP</td>\n      <td>UNIQUE_MATCH</td>\n    </tr>\n  </tbody>\n</table>\n</div>"
     },
     "execution_count": 84,
     "metadata": {},
     "output_type": "execute_result"
    }
   ],
   "source": [
    "bf.q.bgpSessionCompatibility(nodes='c8').answer().frame()"
   ],
   "metadata": {
    "collapsed": false,
    "ExecuteTime": {
     "end_time": "2024-04-26T01:49:56.724595Z",
     "start_time": "2024-04-26T01:49:56.337208Z"
    }
   },
   "id": "4114c3f54b8c02e6"
  },
  {
   "cell_type": "code",
   "execution_count": 129,
   "outputs": [
    {
     "data": {
      "text/plain": "  Node      VRF Local_AS Local_Interface Local_IP Remote_AS Remote_Node  \\\n0   c0  default        1            None  1.1.1.4         1          c1   \n1   c0  default        1            None  1.1.1.4         1          c2   \n2   c0  default        1            None  1.1.1.4         1          c3   \n3   c0  default        1            None  1.1.1.4         1          c4   \n4   c0  default        1            None  1.1.1.4         1          c5   \n5   c0  default        1            None  1.1.1.4         1         c11   \n6   c0  default        1            None  1.1.1.4         1         c15   \n7   c0  default        1            None  1.1.1.4         1         c17   \n\n  Remote_Interface Remote_IP  Address_Families Session_Type Established_Status  \n0             None   1.1.1.1  ['IPV4_UNICAST']         IBGP        ESTABLISHED  \n1             None   1.1.1.2  ['IPV4_UNICAST']         IBGP        ESTABLISHED  \n2             None   1.1.1.3  ['IPV4_UNICAST']         IBGP    NOT_ESTABLISHED  \n3             None   1.1.1.5  ['IPV4_UNICAST']         IBGP        ESTABLISHED  \n4             None   1.1.1.6  ['IPV4_UNICAST']         IBGP        ESTABLISHED  \n5             None  1.1.1.12  ['IPV4_UNICAST']         IBGP        ESTABLISHED  \n6             None  1.1.1.16  ['IPV4_UNICAST']         IBGP        ESTABLISHED  \n7             None  1.1.1.18  ['IPV4_UNICAST']         IBGP        ESTABLISHED  ",
      "text/html": "<div>\n<style scoped>\n    .dataframe tbody tr th:only-of-type {\n        vertical-align: middle;\n    }\n\n    .dataframe tbody tr th {\n        vertical-align: top;\n    }\n\n    .dataframe thead th {\n        text-align: right;\n    }\n</style>\n<table border=\"1\" class=\"dataframe\">\n  <thead>\n    <tr style=\"text-align: right;\">\n      <th></th>\n      <th>Node</th>\n      <th>VRF</th>\n      <th>Local_AS</th>\n      <th>Local_Interface</th>\n      <th>Local_IP</th>\n      <th>Remote_AS</th>\n      <th>Remote_Node</th>\n      <th>Remote_Interface</th>\n      <th>Remote_IP</th>\n      <th>Address_Families</th>\n      <th>Session_Type</th>\n      <th>Established_Status</th>\n    </tr>\n  </thead>\n  <tbody>\n    <tr>\n      <th>0</th>\n      <td>c0</td>\n      <td>default</td>\n      <td>1</td>\n      <td>None</td>\n      <td>1.1.1.4</td>\n      <td>1</td>\n      <td>c1</td>\n      <td>None</td>\n      <td>1.1.1.1</td>\n      <td>['IPV4_UNICAST']</td>\n      <td>IBGP</td>\n      <td>ESTABLISHED</td>\n    </tr>\n    <tr>\n      <th>1</th>\n      <td>c0</td>\n      <td>default</td>\n      <td>1</td>\n      <td>None</td>\n      <td>1.1.1.4</td>\n      <td>1</td>\n      <td>c2</td>\n      <td>None</td>\n      <td>1.1.1.2</td>\n      <td>['IPV4_UNICAST']</td>\n      <td>IBGP</td>\n      <td>ESTABLISHED</td>\n    </tr>\n    <tr>\n      <th>2</th>\n      <td>c0</td>\n      <td>default</td>\n      <td>1</td>\n      <td>None</td>\n      <td>1.1.1.4</td>\n      <td>1</td>\n      <td>c3</td>\n      <td>None</td>\n      <td>1.1.1.3</td>\n      <td>['IPV4_UNICAST']</td>\n      <td>IBGP</td>\n      <td>NOT_ESTABLISHED</td>\n    </tr>\n    <tr>\n      <th>3</th>\n      <td>c0</td>\n      <td>default</td>\n      <td>1</td>\n      <td>None</td>\n      <td>1.1.1.4</td>\n      <td>1</td>\n      <td>c4</td>\n      <td>None</td>\n      <td>1.1.1.5</td>\n      <td>['IPV4_UNICAST']</td>\n      <td>IBGP</td>\n      <td>ESTABLISHED</td>\n    </tr>\n    <tr>\n      <th>4</th>\n      <td>c0</td>\n      <td>default</td>\n      <td>1</td>\n      <td>None</td>\n      <td>1.1.1.4</td>\n      <td>1</td>\n      <td>c5</td>\n      <td>None</td>\n      <td>1.1.1.6</td>\n      <td>['IPV4_UNICAST']</td>\n      <td>IBGP</td>\n      <td>ESTABLISHED</td>\n    </tr>\n    <tr>\n      <th>5</th>\n      <td>c0</td>\n      <td>default</td>\n      <td>1</td>\n      <td>None</td>\n      <td>1.1.1.4</td>\n      <td>1</td>\n      <td>c11</td>\n      <td>None</td>\n      <td>1.1.1.12</td>\n      <td>['IPV4_UNICAST']</td>\n      <td>IBGP</td>\n      <td>ESTABLISHED</td>\n    </tr>\n    <tr>\n      <th>6</th>\n      <td>c0</td>\n      <td>default</td>\n      <td>1</td>\n      <td>None</td>\n      <td>1.1.1.4</td>\n      <td>1</td>\n      <td>c15</td>\n      <td>None</td>\n      <td>1.1.1.16</td>\n      <td>['IPV4_UNICAST']</td>\n      <td>IBGP</td>\n      <td>ESTABLISHED</td>\n    </tr>\n    <tr>\n      <th>7</th>\n      <td>c0</td>\n      <td>default</td>\n      <td>1</td>\n      <td>None</td>\n      <td>1.1.1.4</td>\n      <td>1</td>\n      <td>c17</td>\n      <td>None</td>\n      <td>1.1.1.18</td>\n      <td>['IPV4_UNICAST']</td>\n      <td>IBGP</td>\n      <td>ESTABLISHED</td>\n    </tr>\n  </tbody>\n</table>\n</div>"
     },
     "execution_count": 129,
     "metadata": {},
     "output_type": "execute_result"
    }
   ],
   "source": [
    "bf.q.bgpSessionStatus(nodes='c0').answer().frame()"
   ],
   "metadata": {
    "collapsed": false,
    "ExecuteTime": {
     "end_time": "2024-04-26T02:41:10.966294Z",
     "start_time": "2024-04-26T02:41:10.539957Z"
    }
   },
   "id": "cb1e6f53cdc7af8f"
  },
  {
   "cell_type": "code",
   "execution_count": 124,
   "outputs": [
    {
     "data": {
      "text/plain": "   Node      VRF Local_AS Local_Interface Local_IP Remote_AS Remote_Node  \\\n2    c0  default        1            None  1.1.1.4         1          c3   \n29   c3  default        1            None  1.1.1.3         1          c0   \n\n   Remote_Interface Remote_IP  Address_Families Session_Type  \\\n2              None   1.1.1.3  ['IPV4_UNICAST']         IBGP   \n29             None   1.1.1.4  ['IPV4_UNICAST']         IBGP   \n\n   Established_Status  \n2     NOT_ESTABLISHED  \n29    NOT_ESTABLISHED  ",
      "text/html": "<div>\n<style scoped>\n    .dataframe tbody tr th:only-of-type {\n        vertical-align: middle;\n    }\n\n    .dataframe tbody tr th {\n        vertical-align: top;\n    }\n\n    .dataframe thead th {\n        text-align: right;\n    }\n</style>\n<table border=\"1\" class=\"dataframe\">\n  <thead>\n    <tr style=\"text-align: right;\">\n      <th></th>\n      <th>Node</th>\n      <th>VRF</th>\n      <th>Local_AS</th>\n      <th>Local_Interface</th>\n      <th>Local_IP</th>\n      <th>Remote_AS</th>\n      <th>Remote_Node</th>\n      <th>Remote_Interface</th>\n      <th>Remote_IP</th>\n      <th>Address_Families</th>\n      <th>Session_Type</th>\n      <th>Established_Status</th>\n    </tr>\n  </thead>\n  <tbody>\n    <tr>\n      <th>2</th>\n      <td>c0</td>\n      <td>default</td>\n      <td>1</td>\n      <td>None</td>\n      <td>1.1.1.4</td>\n      <td>1</td>\n      <td>c3</td>\n      <td>None</td>\n      <td>1.1.1.3</td>\n      <td>['IPV4_UNICAST']</td>\n      <td>IBGP</td>\n      <td>NOT_ESTABLISHED</td>\n    </tr>\n    <tr>\n      <th>29</th>\n      <td>c3</td>\n      <td>default</td>\n      <td>1</td>\n      <td>None</td>\n      <td>1.1.1.3</td>\n      <td>1</td>\n      <td>c0</td>\n      <td>None</td>\n      <td>1.1.1.4</td>\n      <td>['IPV4_UNICAST']</td>\n      <td>IBGP</td>\n      <td>NOT_ESTABLISHED</td>\n    </tr>\n  </tbody>\n</table>\n</div>"
     },
     "execution_count": 124,
     "metadata": {},
     "output_type": "execute_result"
    }
   ],
   "source": [
    "bgpSessStat = bf.q.bgpSessionStatus().answer().frame()\n",
    "bgpSessStat[bgpSessStat['Established_Status'] != 'ESTABLISHED']"
   ],
   "metadata": {
    "collapsed": false,
    "ExecuteTime": {
     "end_time": "2024-04-26T02:38:30.204001Z",
     "start_time": "2024-04-26T02:38:29.834040Z"
    }
   },
   "id": "3fde2488a1579eee"
  },
  {
   "cell_type": "code",
   "execution_count": 130,
   "outputs": [
    {
     "data": {
      "text/plain": "Empty DataFrame\nColumns: [Node, VRF, Local_AS, Local_Interface, Local_IP, Remote_AS, Remote_Node, Remote_Interface, Remote_IP, Address_Families, Session_Type, Configured_Status]\nIndex: []",
      "text/html": "<div>\n<style scoped>\n    .dataframe tbody tr th:only-of-type {\n        vertical-align: middle;\n    }\n\n    .dataframe tbody tr th {\n        vertical-align: top;\n    }\n\n    .dataframe thead th {\n        text-align: right;\n    }\n</style>\n<table border=\"1\" class=\"dataframe\">\n  <thead>\n    <tr style=\"text-align: right;\">\n      <th></th>\n      <th>Node</th>\n      <th>VRF</th>\n      <th>Local_AS</th>\n      <th>Local_Interface</th>\n      <th>Local_IP</th>\n      <th>Remote_AS</th>\n      <th>Remote_Node</th>\n      <th>Remote_Interface</th>\n      <th>Remote_IP</th>\n      <th>Address_Families</th>\n      <th>Session_Type</th>\n      <th>Configured_Status</th>\n    </tr>\n  </thead>\n  <tbody>\n  </tbody>\n</table>\n</div>"
     },
     "execution_count": 130,
     "metadata": {},
     "output_type": "execute_result"
    }
   ],
   "source": [
    "bgpSessCompat = bf.q.bgpSessionCompatibility().answer().frame()\n",
    "bgpSessCompat[~bgpSessCompat['Configured_Status'].isin([\"UNIQUE_MATCH\", \"DYNAMIC_MATCH\"])]"
   ],
   "metadata": {
    "collapsed": false,
    "ExecuteTime": {
     "end_time": "2024-04-26T02:42:21.672338Z",
     "start_time": "2024-04-26T02:42:21.477985Z"
    }
   },
   "id": "fa7e86619c5db799"
  },
  {
   "cell_type": "code",
   "execution_count": 80,
   "outputs": [
    {
     "data": {
      "text/plain": "   Node      VRF           Interface        IP Mask Active\n99  c13  default  GigabitEthernet0/0  1.0.30.2   24   True",
      "text/html": "<div>\n<style scoped>\n    .dataframe tbody tr th:only-of-type {\n        vertical-align: middle;\n    }\n\n    .dataframe tbody tr th {\n        vertical-align: top;\n    }\n\n    .dataframe thead th {\n        text-align: right;\n    }\n</style>\n<table border=\"1\" class=\"dataframe\">\n  <thead>\n    <tr style=\"text-align: right;\">\n      <th></th>\n      <th>Node</th>\n      <th>VRF</th>\n      <th>Interface</th>\n      <th>IP</th>\n      <th>Mask</th>\n      <th>Active</th>\n    </tr>\n  </thead>\n  <tbody>\n    <tr>\n      <th>99</th>\n      <td>c13</td>\n      <td>default</td>\n      <td>GigabitEthernet0/0</td>\n      <td>1.0.30.2</td>\n      <td>24</td>\n      <td>True</td>\n    </tr>\n  </tbody>\n</table>\n</div>"
     },
     "execution_count": 80,
     "metadata": {},
     "output_type": "execute_result"
    }
   ],
   "source": [
    "ipOwn = bf.q.ipOwners().answer().frame()\n",
    "ipOwn[ipOwn['IP']=='1.0.30.2']"
   ],
   "metadata": {
    "collapsed": false,
    "ExecuteTime": {
     "end_time": "2024-04-26T01:36:30.305190Z",
     "start_time": "2024-04-26T01:36:29.866469Z"
    }
   },
   "id": "e920859c13e2ff21"
  },
  {
   "cell_type": "code",
   "execution_count": 140,
   "outputs": [
    {
     "data": {
      "text/plain": "Empty DataFrame\nColumns: [Node, VRF, Interface, IP, Mask, Active]\nIndex: []",
      "text/html": "<div>\n<style scoped>\n    .dataframe tbody tr th:only-of-type {\n        vertical-align: middle;\n    }\n\n    .dataframe tbody tr th {\n        vertical-align: top;\n    }\n\n    .dataframe thead th {\n        text-align: right;\n    }\n</style>\n<table border=\"1\" class=\"dataframe\">\n  <thead>\n    <tr style=\"text-align: right;\">\n      <th></th>\n      <th>Node</th>\n      <th>VRF</th>\n      <th>Interface</th>\n      <th>IP</th>\n      <th>Mask</th>\n      <th>Active</th>\n    </tr>\n  </thead>\n  <tbody>\n  </tbody>\n</table>\n</div>"
     },
     "execution_count": 140,
     "metadata": {},
     "output_type": "execute_result"
    }
   ],
   "source": [
    "ipOwn = bf.q.ipOwners().answer().frame()\n",
    "ipOwn[ipOwn['IP']=='1.0.20.1']"
   ],
   "metadata": {
    "collapsed": false,
    "ExecuteTime": {
     "end_time": "2024-04-26T07:37:55.134896Z",
     "start_time": "2024-04-26T07:37:54.942797Z"
    }
   },
   "id": "20fb2ed0e53304ca"
  },
  {
   "cell_type": "code",
   "execution_count": 131,
   "outputs": [
    {
     "data": {
      "text/plain": "   Node      VRF Local_AS Local_Interface Local_IP Remote_AS Remote_Node  \\\n2    c0  default        1            None  1.1.1.4         1          c3   \n29   c3  default        1            None  1.1.1.3         1          c0   \n\n   Remote_Interface Remote_IP  Address_Families Session_Type  \\\n2              None   1.1.1.3  ['IPV4_UNICAST']         IBGP   \n29             None   1.1.1.4  ['IPV4_UNICAST']         IBGP   \n\n   Established_Status  \n2     NOT_ESTABLISHED  \n29    NOT_ESTABLISHED  ",
      "text/html": "<div>\n<style scoped>\n    .dataframe tbody tr th:only-of-type {\n        vertical-align: middle;\n    }\n\n    .dataframe tbody tr th {\n        vertical-align: top;\n    }\n\n    .dataframe thead th {\n        text-align: right;\n    }\n</style>\n<table border=\"1\" class=\"dataframe\">\n  <thead>\n    <tr style=\"text-align: right;\">\n      <th></th>\n      <th>Node</th>\n      <th>VRF</th>\n      <th>Local_AS</th>\n      <th>Local_Interface</th>\n      <th>Local_IP</th>\n      <th>Remote_AS</th>\n      <th>Remote_Node</th>\n      <th>Remote_Interface</th>\n      <th>Remote_IP</th>\n      <th>Address_Families</th>\n      <th>Session_Type</th>\n      <th>Established_Status</th>\n    </tr>\n  </thead>\n  <tbody>\n    <tr>\n      <th>2</th>\n      <td>c0</td>\n      <td>default</td>\n      <td>1</td>\n      <td>None</td>\n      <td>1.1.1.4</td>\n      <td>1</td>\n      <td>c3</td>\n      <td>None</td>\n      <td>1.1.1.3</td>\n      <td>['IPV4_UNICAST']</td>\n      <td>IBGP</td>\n      <td>NOT_ESTABLISHED</td>\n    </tr>\n    <tr>\n      <th>29</th>\n      <td>c3</td>\n      <td>default</td>\n      <td>1</td>\n      <td>None</td>\n      <td>1.1.1.3</td>\n      <td>1</td>\n      <td>c0</td>\n      <td>None</td>\n      <td>1.1.1.4</td>\n      <td>['IPV4_UNICAST']</td>\n      <td>IBGP</td>\n      <td>NOT_ESTABLISHED</td>\n    </tr>\n  </tbody>\n</table>\n</div>"
     },
     "execution_count": 131,
     "metadata": {},
     "output_type": "execute_result"
    }
   ],
   "source": [
    "# Find all BGP sessions in the network that were compatible but NOT_ESTABLISHED\n",
    "bgpSessStat[bgpSessStat['Established_Status'] == 'NOT_ESTABLISHED']"
   ],
   "metadata": {
    "collapsed": false,
    "ExecuteTime": {
     "end_time": "2024-04-26T02:42:30.633477Z",
     "start_time": "2024-04-26T02:42:30.625496Z"
    }
   },
   "id": "ed4ee3f0e9941864"
  },
  {
   "cell_type": "code",
   "execution_count": 145,
   "outputs": [
    {
     "data": {
      "text/plain": "   Node      VRF     Network                                  Next_Hop  \\\n81   c1  default  1.1.1.8/32  interface GigabitEthernet7/0 ip 1.0.30.2   \n82   c1  default  1.1.1.8/32  interface GigabitEthernet8/0 ip 1.0.31.2   \n\n   Next_Hop_IP  Next_Hop_Interface Protocol Metric Admin_Distance   Tag  \n81    1.0.30.2  GigabitEthernet7/0     ospf      3            110  None  \n82    1.0.31.2  GigabitEthernet8/0     ospf      3            110  None  ",
      "text/html": "<div>\n<style scoped>\n    .dataframe tbody tr th:only-of-type {\n        vertical-align: middle;\n    }\n\n    .dataframe tbody tr th {\n        vertical-align: top;\n    }\n\n    .dataframe thead th {\n        text-align: right;\n    }\n</style>\n<table border=\"1\" class=\"dataframe\">\n  <thead>\n    <tr style=\"text-align: right;\">\n      <th></th>\n      <th>Node</th>\n      <th>VRF</th>\n      <th>Network</th>\n      <th>Next_Hop</th>\n      <th>Next_Hop_IP</th>\n      <th>Next_Hop_Interface</th>\n      <th>Protocol</th>\n      <th>Metric</th>\n      <th>Admin_Distance</th>\n      <th>Tag</th>\n    </tr>\n  </thead>\n  <tbody>\n    <tr>\n      <th>81</th>\n      <td>c1</td>\n      <td>default</td>\n      <td>1.1.1.8/32</td>\n      <td>interface GigabitEthernet7/0 ip 1.0.30.2</td>\n      <td>1.0.30.2</td>\n      <td>GigabitEthernet7/0</td>\n      <td>ospf</td>\n      <td>3</td>\n      <td>110</td>\n      <td>None</td>\n    </tr>\n    <tr>\n      <th>82</th>\n      <td>c1</td>\n      <td>default</td>\n      <td>1.1.1.8/32</td>\n      <td>interface GigabitEthernet8/0 ip 1.0.31.2</td>\n      <td>1.0.31.2</td>\n      <td>GigabitEthernet8/0</td>\n      <td>ospf</td>\n      <td>3</td>\n      <td>110</td>\n      <td>None</td>\n    </tr>\n  </tbody>\n</table>\n</div>"
     },
     "execution_count": 145,
     "metadata": {},
     "output_type": "execute_result"
    }
   ],
   "source": [
    "routes = bf.q.routes(nodes='c1').answer().frame()\n",
    "routes[routes['Network']=='1.1.1.8/32']"
   ],
   "metadata": {
    "collapsed": false,
    "ExecuteTime": {
     "end_time": "2024-04-26T07:39:31.434659Z",
     "start_time": "2024-04-26T07:39:31.265Z"
    }
   },
   "id": "a4dd1469fbc213d1"
  },
  {
   "cell_type": "code",
   "execution_count": 11,
   "outputs": [
    {
     "data": {
      "text/plain": "   Node      VRF  Interface        IP Mask Active\n86  c10  default  Loopback0  1.1.1.11   32   True",
      "text/html": "<div>\n<style scoped>\n    .dataframe tbody tr th:only-of-type {\n        vertical-align: middle;\n    }\n\n    .dataframe tbody tr th {\n        vertical-align: top;\n    }\n\n    .dataframe thead th {\n        text-align: right;\n    }\n</style>\n<table border=\"1\" class=\"dataframe\">\n  <thead>\n    <tr style=\"text-align: right;\">\n      <th></th>\n      <th>Node</th>\n      <th>VRF</th>\n      <th>Interface</th>\n      <th>IP</th>\n      <th>Mask</th>\n      <th>Active</th>\n    </tr>\n  </thead>\n  <tbody>\n    <tr>\n      <th>86</th>\n      <td>c10</td>\n      <td>default</td>\n      <td>Loopback0</td>\n      <td>1.1.1.11</td>\n      <td>32</td>\n      <td>True</td>\n    </tr>\n  </tbody>\n</table>\n</div>"
     },
     "execution_count": 11,
     "metadata": {},
     "output_type": "execute_result"
    }
   ],
   "source": [
    "ipOwn = bf.q.ipOwners().answer().frame()\n",
    "ipOwn[ipOwn['IP']=='1.1.1.11']"
   ],
   "metadata": {
    "collapsed": false,
    "ExecuteTime": {
     "end_time": "2024-04-27T08:56:04.997541Z",
     "start_time": "2024-04-27T08:56:04.813999Z"
    }
   },
   "id": "7ace4b3ef51459ab"
  },
  {
   "cell_type": "code",
   "execution_count": 175,
   "outputs": [
    {
     "data": {
      "text/plain": "  Node      VRF      Network    Status     Next_Hop     Next_Hop_IP  \\\n0   c1  default   1.1.1.1/32  ['BEST']   ip 1.1.1.1         1.1.1.1   \n1   c1  default   1.1.1.2/32  ['BEST']   ip 1.1.1.2         1.1.1.2   \n2   c1  default   1.1.1.3/32  ['BEST']      discard  AUTO/NONE(-1l)   \n3   c1  default   1.1.1.4/32  ['BEST']   ip 1.1.1.4         1.1.1.4   \n4   c1  default   1.1.1.5/32  ['BEST']  ip 1.0.19.1        1.0.19.1   \n5   c1  default   1.1.1.7/32  ['BEST']  ip 1.0.27.1        1.0.27.1   \n6   c1  default   1.1.1.8/32  ['BEST']   ip 1.1.1.8         1.1.1.8   \n7   c1  default   1.1.1.9/32  ['BEST']   ip 1.1.1.9         1.1.1.9   \n8   c1  default  1.1.1.16/32  ['BEST']  ip 1.1.1.16        1.1.1.16   \n\n  Next_Hop_Interface Protocol AS_Path Metric  ... Communities Origin_Protocol  \\\n0            dynamic     ibgp              0  ...          []            ibgp   \n1            dynamic     ibgp              0  ...          []            ibgp   \n2     null_interface      bgp              0  ...          []       connected   \n3            dynamic     ibgp              0  ...          []            ibgp   \n4            dynamic     ibgp       2      0  ...          []            ibgp   \n5            dynamic     ibgp       4      0  ...          []            ibgp   \n6            dynamic     ibgp              0  ...          []            ibgp   \n7            dynamic     ibgp              0  ...          []            ibgp   \n8            dynamic     ibgp              0  ...          []            ibgp   \n\n  Origin_Type Originator_Id Received_From_IP Received_Path_Id Cluster_List  \\\n0         igp       1.1.1.1          1.1.1.4             None        [100]   \n1         igp       1.1.1.2          1.1.1.4             None        [100]   \n2         igp       1.1.1.3          0.0.0.0             None         None   \n3         igp       1.1.1.4          1.1.1.4             None         None   \n4         igp       1.1.1.8          1.1.1.8             None         None   \n5         igp      1.1.1.16          1.1.1.4             None        [100]   \n6         igp       1.1.1.8          1.1.1.8             None         None   \n7         igp       1.1.1.9          1.1.1.9             None         None   \n8         igp      1.1.1.16          1.1.1.4             None        [100]   \n\n  Tunnel_Encapsulation_Attribute Weight   Tag  \n0                           None      0  None  \n1                           None      0  None  \n2                           None  32768  None  \n3                           None      0  None  \n4                           None      0  None  \n5                           None      0  None  \n6                           None      0  None  \n7                           None      0  None  \n8                           None      0  None  \n\n[9 rows x 21 columns]",
      "text/html": "<div>\n<style scoped>\n    .dataframe tbody tr th:only-of-type {\n        vertical-align: middle;\n    }\n\n    .dataframe tbody tr th {\n        vertical-align: top;\n    }\n\n    .dataframe thead th {\n        text-align: right;\n    }\n</style>\n<table border=\"1\" class=\"dataframe\">\n  <thead>\n    <tr style=\"text-align: right;\">\n      <th></th>\n      <th>Node</th>\n      <th>VRF</th>\n      <th>Network</th>\n      <th>Status</th>\n      <th>Next_Hop</th>\n      <th>Next_Hop_IP</th>\n      <th>Next_Hop_Interface</th>\n      <th>Protocol</th>\n      <th>AS_Path</th>\n      <th>Metric</th>\n      <th>...</th>\n      <th>Communities</th>\n      <th>Origin_Protocol</th>\n      <th>Origin_Type</th>\n      <th>Originator_Id</th>\n      <th>Received_From_IP</th>\n      <th>Received_Path_Id</th>\n      <th>Cluster_List</th>\n      <th>Tunnel_Encapsulation_Attribute</th>\n      <th>Weight</th>\n      <th>Tag</th>\n    </tr>\n  </thead>\n  <tbody>\n    <tr>\n      <th>0</th>\n      <td>c1</td>\n      <td>default</td>\n      <td>1.1.1.1/32</td>\n      <td>['BEST']</td>\n      <td>ip 1.1.1.1</td>\n      <td>1.1.1.1</td>\n      <td>dynamic</td>\n      <td>ibgp</td>\n      <td></td>\n      <td>0</td>\n      <td>...</td>\n      <td>[]</td>\n      <td>ibgp</td>\n      <td>igp</td>\n      <td>1.1.1.1</td>\n      <td>1.1.1.4</td>\n      <td>None</td>\n      <td>[100]</td>\n      <td>None</td>\n      <td>0</td>\n      <td>None</td>\n    </tr>\n    <tr>\n      <th>1</th>\n      <td>c1</td>\n      <td>default</td>\n      <td>1.1.1.2/32</td>\n      <td>['BEST']</td>\n      <td>ip 1.1.1.2</td>\n      <td>1.1.1.2</td>\n      <td>dynamic</td>\n      <td>ibgp</td>\n      <td></td>\n      <td>0</td>\n      <td>...</td>\n      <td>[]</td>\n      <td>ibgp</td>\n      <td>igp</td>\n      <td>1.1.1.2</td>\n      <td>1.1.1.4</td>\n      <td>None</td>\n      <td>[100]</td>\n      <td>None</td>\n      <td>0</td>\n      <td>None</td>\n    </tr>\n    <tr>\n      <th>2</th>\n      <td>c1</td>\n      <td>default</td>\n      <td>1.1.1.3/32</td>\n      <td>['BEST']</td>\n      <td>discard</td>\n      <td>AUTO/NONE(-1l)</td>\n      <td>null_interface</td>\n      <td>bgp</td>\n      <td></td>\n      <td>0</td>\n      <td>...</td>\n      <td>[]</td>\n      <td>connected</td>\n      <td>igp</td>\n      <td>1.1.1.3</td>\n      <td>0.0.0.0</td>\n      <td>None</td>\n      <td>None</td>\n      <td>None</td>\n      <td>32768</td>\n      <td>None</td>\n    </tr>\n    <tr>\n      <th>3</th>\n      <td>c1</td>\n      <td>default</td>\n      <td>1.1.1.4/32</td>\n      <td>['BEST']</td>\n      <td>ip 1.1.1.4</td>\n      <td>1.1.1.4</td>\n      <td>dynamic</td>\n      <td>ibgp</td>\n      <td></td>\n      <td>0</td>\n      <td>...</td>\n      <td>[]</td>\n      <td>ibgp</td>\n      <td>igp</td>\n      <td>1.1.1.4</td>\n      <td>1.1.1.4</td>\n      <td>None</td>\n      <td>None</td>\n      <td>None</td>\n      <td>0</td>\n      <td>None</td>\n    </tr>\n    <tr>\n      <th>4</th>\n      <td>c1</td>\n      <td>default</td>\n      <td>1.1.1.5/32</td>\n      <td>['BEST']</td>\n      <td>ip 1.0.19.1</td>\n      <td>1.0.19.1</td>\n      <td>dynamic</td>\n      <td>ibgp</td>\n      <td>2</td>\n      <td>0</td>\n      <td>...</td>\n      <td>[]</td>\n      <td>ibgp</td>\n      <td>igp</td>\n      <td>1.1.1.8</td>\n      <td>1.1.1.8</td>\n      <td>None</td>\n      <td>None</td>\n      <td>None</td>\n      <td>0</td>\n      <td>None</td>\n    </tr>\n    <tr>\n      <th>5</th>\n      <td>c1</td>\n      <td>default</td>\n      <td>1.1.1.7/32</td>\n      <td>['BEST']</td>\n      <td>ip 1.0.27.1</td>\n      <td>1.0.27.1</td>\n      <td>dynamic</td>\n      <td>ibgp</td>\n      <td>4</td>\n      <td>0</td>\n      <td>...</td>\n      <td>[]</td>\n      <td>ibgp</td>\n      <td>igp</td>\n      <td>1.1.1.16</td>\n      <td>1.1.1.4</td>\n      <td>None</td>\n      <td>[100]</td>\n      <td>None</td>\n      <td>0</td>\n      <td>None</td>\n    </tr>\n    <tr>\n      <th>6</th>\n      <td>c1</td>\n      <td>default</td>\n      <td>1.1.1.8/32</td>\n      <td>['BEST']</td>\n      <td>ip 1.1.1.8</td>\n      <td>1.1.1.8</td>\n      <td>dynamic</td>\n      <td>ibgp</td>\n      <td></td>\n      <td>0</td>\n      <td>...</td>\n      <td>[]</td>\n      <td>ibgp</td>\n      <td>igp</td>\n      <td>1.1.1.8</td>\n      <td>1.1.1.8</td>\n      <td>None</td>\n      <td>None</td>\n      <td>None</td>\n      <td>0</td>\n      <td>None</td>\n    </tr>\n    <tr>\n      <th>7</th>\n      <td>c1</td>\n      <td>default</td>\n      <td>1.1.1.9/32</td>\n      <td>['BEST']</td>\n      <td>ip 1.1.1.9</td>\n      <td>1.1.1.9</td>\n      <td>dynamic</td>\n      <td>ibgp</td>\n      <td></td>\n      <td>0</td>\n      <td>...</td>\n      <td>[]</td>\n      <td>ibgp</td>\n      <td>igp</td>\n      <td>1.1.1.9</td>\n      <td>1.1.1.9</td>\n      <td>None</td>\n      <td>None</td>\n      <td>None</td>\n      <td>0</td>\n      <td>None</td>\n    </tr>\n    <tr>\n      <th>8</th>\n      <td>c1</td>\n      <td>default</td>\n      <td>1.1.1.16/32</td>\n      <td>['BEST']</td>\n      <td>ip 1.1.1.16</td>\n      <td>1.1.1.16</td>\n      <td>dynamic</td>\n      <td>ibgp</td>\n      <td></td>\n      <td>0</td>\n      <td>...</td>\n      <td>[]</td>\n      <td>ibgp</td>\n      <td>igp</td>\n      <td>1.1.1.16</td>\n      <td>1.1.1.4</td>\n      <td>None</td>\n      <td>[100]</td>\n      <td>None</td>\n      <td>0</td>\n      <td>None</td>\n    </tr>\n  </tbody>\n</table>\n<p>9 rows × 21 columns</p>\n</div>"
     },
     "execution_count": 175,
     "metadata": {},
     "output_type": "execute_result"
    }
   ],
   "source": [
    "bf.q.bgpRib(nodes='c1').answer().frame()"
   ],
   "metadata": {
    "collapsed": false,
    "ExecuteTime": {
     "end_time": "2024-04-26T13:12:03.219343Z",
     "start_time": "2024-04-26T13:12:03.017619Z"
    }
   },
   "id": "4838b6d1d934e48f"
  },
  {
   "cell_type": "code",
   "execution_count": 23,
   "outputs": [
    {
     "data": {
      "text/plain": "                             Sources   Unreachable_Line  \\\n0                        ['c6: 103']  permit ip any any   \n1  ['c2: 104', 'c3: 104', 'c7: 111']  permit ip any any   \n\n  Unreachable_Line_Action                            Blocking_Lines  \\\n0                  PERMIT  ['deny ip any 1.1.1.10 255.255.255.255']   \n1                  PERMIT  ['deny ip any 1.1.1.11 255.255.255.255']   \n\n  Different_Action          Reason Additional_Info  \n0             True  BLOCKING_LINES            None  \n1             True  BLOCKING_LINES            None  ",
      "text/html": "<div>\n<style scoped>\n    .dataframe tbody tr th:only-of-type {\n        vertical-align: middle;\n    }\n\n    .dataframe tbody tr th {\n        vertical-align: top;\n    }\n\n    .dataframe thead th {\n        text-align: right;\n    }\n</style>\n<table border=\"1\" class=\"dataframe\">\n  <thead>\n    <tr style=\"text-align: right;\">\n      <th></th>\n      <th>Sources</th>\n      <th>Unreachable_Line</th>\n      <th>Unreachable_Line_Action</th>\n      <th>Blocking_Lines</th>\n      <th>Different_Action</th>\n      <th>Reason</th>\n      <th>Additional_Info</th>\n    </tr>\n  </thead>\n  <tbody>\n    <tr>\n      <th>0</th>\n      <td>['c6: 103']</td>\n      <td>permit ip any any</td>\n      <td>PERMIT</td>\n      <td>['deny ip any 1.1.1.10 255.255.255.255']</td>\n      <td>True</td>\n      <td>BLOCKING_LINES</td>\n      <td>None</td>\n    </tr>\n    <tr>\n      <th>1</th>\n      <td>['c2: 104', 'c3: 104', 'c7: 111']</td>\n      <td>permit ip any any</td>\n      <td>PERMIT</td>\n      <td>['deny ip any 1.1.1.11 255.255.255.255']</td>\n      <td>True</td>\n      <td>BLOCKING_LINES</td>\n      <td>None</td>\n    </tr>\n  </tbody>\n</table>\n</div>"
     },
     "execution_count": 23,
     "metadata": {},
     "output_type": "execute_result"
    }
   ],
   "source": [
    "result = bf.q.filterLineReachability().answer().frame()\n",
    "result.head(5)"
   ],
   "metadata": {
    "collapsed": false,
    "ExecuteTime": {
     "end_time": "2024-04-27T09:18:29.572494Z",
     "start_time": "2024-04-27T09:18:29.239958Z"
    }
   },
   "id": "2eda9ddc9358e4e2"
  },
  {
   "cell_type": "code",
   "execution_count": null,
   "outputs": [],
   "source": [],
   "metadata": {
    "collapsed": false
   },
   "id": "3cdd317cdea4795c"
  }
 ],
 "metadata": {
  "kernelspec": {
   "display_name": "Python 3",
   "language": "python",
   "name": "python3"
  },
  "language_info": {
   "codemirror_mode": {
    "name": "ipython",
    "version": 2
   },
   "file_extension": ".py",
   "mimetype": "text/x-python",
   "name": "python",
   "nbconvert_exporter": "python",
   "pygments_lexer": "ipython2",
   "version": "2.7.6"
  }
 },
 "nbformat": 4,
 "nbformat_minor": 5
}
