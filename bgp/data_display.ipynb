{
 "cells": [
  {
   "cell_type": "code",
   "execution_count": 5,
   "id": "initial_id",
   "metadata": {
    "collapsed": true,
    "ExecuteTime": {
     "end_time": "2024-06-13T03:02:27.199318Z",
     "start_time": "2024-06-13T03:02:27.177115Z"
    }
   },
   "outputs": [
    {
     "data": {
      "text/plain": "[{'type': 'ospf_weight',\n  'location': (2, 3),\n  'old_value': {'cost': 29},\n  'new_value': {'cost': 31}},\n {'type': 'bgp_route',\n  'location': 10,\n  'old_value': {'local_preference': 50, 'med': 1},\n  'new_value': {'local_preference': 90, 'med': 0}}]"
     },
     "execution_count": 5,
     "metadata": {},
     "output_type": "execute_result"
    }
   ],
   "source": [
    "import pickle\n",
    "\n",
    "with open('update_data/3/update_record.pkl', 'rb') as f:\n",
    "    update_record = pickle.load(f)\n",
    "update_record"
   ]
  },
  {
   "cell_type": "markdown",
   "source": [
    "update_record是对配置参数进行了哪些更改的记录"
   ],
   "metadata": {
    "collapsed": false
   },
   "id": "646bd80e0832e7d9"
  },
  {
   "cell_type": "code",
   "execution_count": 13,
   "outputs": [
    {
     "data": {
      "text/plain": "[fwd(c0,c5,c4),\n fwd(c4,c5,c8),\n fwd(c4,c6,c2),\n fwd(c2,c6,c11),\n fwd(c1,c7,c2),\n fwd(c2,c7,c13),\n reachable(c1,c5,c4),\n not reachable(c4,c5,c0),\n not reachable(c4,c5,c0),\n reachable(c4,c6,c11),\n not reachable(c4,c6,c0),\n not reachable(c4,c6,c1),\n not reachable(c4,c7,c0),\n not reachable(c4,c7,c0),\n not reachable(c1,c7,c4)]"
     },
     "execution_count": 13,
     "metadata": {},
     "output_type": "execute_result"
    }
   ],
   "source": [
    "with open('update_data/3/facts.pkl', 'rb') as f:\n",
    "    facts = pickle.load(f)\n",
    "facts"
   ],
   "metadata": {
    "collapsed": false,
    "ExecuteTime": {
     "end_time": "2024-06-13T06:13:02.242891Z",
     "start_time": "2024-06-13T06:13:02.229306Z"
    }
   },
   "id": "e08a919cba3aa527"
  },
  {
   "cell_type": "markdown",
   "source": [
    "facts是要更新的路由策略，fwd(c0,c5,c4)表示从c0到c5要经过c4，not fwd(c0,c5,c3)则表示要避免经过c3"
   ],
   "metadata": {
    "collapsed": false
   },
   "id": "35005242f3950b83"
  },
  {
   "cell_type": "code",
   "execution_count": 11,
   "outputs": [
    {
     "data": {
      "text/plain": "'Now we need to ensure that the end-to-end delay of the traffic from node 1.0 to node 5.0 is less than 3300ms, the average jitter is less than 1090ms, and the packet loss rate is less than 0.02%'"
     },
     "execution_count": 11,
     "metadata": {},
     "output_type": "execute_result"
    }
   ],
   "source": [
    "import pandas as pd\n",
    "qos = pd.read_json('update_data/2/dataset.jsonl', lines=True)\n",
    "qos.loc[1]['qos_constraint']"
   ],
   "metadata": {
    "collapsed": false,
    "ExecuteTime": {
     "end_time": "2024-06-13T03:05:17.464739Z",
     "start_time": "2024-06-13T03:05:17.423685Z"
    }
   },
   "id": "1d964bf572587af6"
  },
  {
   "cell_type": "markdown",
   "source": [
    "qos_constraint存储了该网络的端到端qos目标"
   ],
   "metadata": {
    "collapsed": false
   },
   "id": "b1f233b1b1d9f156"
  }
 ],
 "metadata": {
  "kernelspec": {
   "display_name": "Python 3",
   "language": "python",
   "name": "python3"
  },
  "language_info": {
   "codemirror_mode": {
    "name": "ipython",
    "version": 2
   },
   "file_extension": ".py",
   "mimetype": "text/x-python",
   "name": "python",
   "nbconvert_exporter": "python",
   "pygments_lexer": "ipython2",
   "version": "2.7.6"
  }
 },
 "nbformat": 4,
 "nbformat_minor": 5
}
